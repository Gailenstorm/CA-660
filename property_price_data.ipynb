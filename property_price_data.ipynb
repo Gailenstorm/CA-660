{
 "cells": [
  {
   "cell_type": "code",
   "execution_count": 1,
   "metadata": {},
   "outputs": [],
   "source": [
    "import pandas as pd\n",
    "import numpy as np\n",
    "import os\n",
    "import matplotlib.pyplot as plt\n",
    "TABLE_DIR = \"tables\""
   ]
  },
  {
   "cell_type": "code",
   "execution_count": 2,
   "metadata": {},
   "outputs": [
    {
     "data": {
      "text/html": [
       "<div>\n",
       "<style scoped>\n",
       "    .dataframe tbody tr th:only-of-type {\n",
       "        vertical-align: middle;\n",
       "    }\n",
       "\n",
       "    .dataframe tbody tr th {\n",
       "        vertical-align: top;\n",
       "    }\n",
       "\n",
       "    .dataframe thead th {\n",
       "        text-align: right;\n",
       "    }\n",
       "</style>\n",
       "<table border=\"1\" class=\"dataframe\">\n",
       "  <thead>\n",
       "    <tr style=\"text-align: right;\">\n",
       "      <th></th>\n",
       "      <th>Statistic</th>\n",
       "      <th>Month</th>\n",
       "      <th>Type of Residential Property</th>\n",
       "      <th>UNIT</th>\n",
       "      <th>VALUE</th>\n",
       "    </tr>\n",
       "  </thead>\n",
       "  <tbody>\n",
       "    <tr>\n",
       "      <th>0</th>\n",
       "      <td>Residential Property Price Index</td>\n",
       "      <td>2005M01</td>\n",
       "      <td>National - all residential properties</td>\n",
       "      <td>Base 2015=100</td>\n",
       "      <td>124.9</td>\n",
       "    </tr>\n",
       "    <tr>\n",
       "      <th>1</th>\n",
       "      <td>Residential Property Price Index</td>\n",
       "      <td>2005M01</td>\n",
       "      <td>National - houses</td>\n",
       "      <td>Base 2015=100</td>\n",
       "      <td>120.7</td>\n",
       "    </tr>\n",
       "    <tr>\n",
       "      <th>2</th>\n",
       "      <td>Residential Property Price Index</td>\n",
       "      <td>2005M01</td>\n",
       "      <td>National - apartments</td>\n",
       "      <td>Base 2015=100</td>\n",
       "      <td>153.4</td>\n",
       "    </tr>\n",
       "    <tr>\n",
       "      <th>3</th>\n",
       "      <td>Residential Property Price Index</td>\n",
       "      <td>2005M01</td>\n",
       "      <td>Dublin - all residential properties</td>\n",
       "      <td>Base 2015=100</td>\n",
       "      <td>118.5</td>\n",
       "    </tr>\n",
       "    <tr>\n",
       "      <th>4</th>\n",
       "      <td>Residential Property Price Index</td>\n",
       "      <td>2005M01</td>\n",
       "      <td>Dublin - houses</td>\n",
       "      <td>Base 2015=100</td>\n",
       "      <td>112.0</td>\n",
       "    </tr>\n",
       "    <tr>\n",
       "      <th>...</th>\n",
       "      <td>...</td>\n",
       "      <td>...</td>\n",
       "      <td>...</td>\n",
       "      <td>...</td>\n",
       "      <td>...</td>\n",
       "    </tr>\n",
       "    <tr>\n",
       "      <th>16075</th>\n",
       "      <td>Percentage Change over 12 months for Residenti...</td>\n",
       "      <td>2021M09</td>\n",
       "      <td>West - houses</td>\n",
       "      <td>%</td>\n",
       "      <td>14.0</td>\n",
       "    </tr>\n",
       "    <tr>\n",
       "      <th>16076</th>\n",
       "      <td>Percentage Change over 12 months for Residenti...</td>\n",
       "      <td>2021M09</td>\n",
       "      <td>Mid-East - houses</td>\n",
       "      <td>%</td>\n",
       "      <td>10.7</td>\n",
       "    </tr>\n",
       "    <tr>\n",
       "      <th>16077</th>\n",
       "      <td>Percentage Change over 12 months for Residenti...</td>\n",
       "      <td>2021M09</td>\n",
       "      <td>Mid-West - houses</td>\n",
       "      <td>%</td>\n",
       "      <td>13.0</td>\n",
       "    </tr>\n",
       "    <tr>\n",
       "      <th>16078</th>\n",
       "      <td>Percentage Change over 12 months for Residenti...</td>\n",
       "      <td>2021M09</td>\n",
       "      <td>South-East - houses</td>\n",
       "      <td>%</td>\n",
       "      <td>16.3</td>\n",
       "    </tr>\n",
       "    <tr>\n",
       "      <th>16079</th>\n",
       "      <td>Percentage Change over 12 months for Residenti...</td>\n",
       "      <td>2021M09</td>\n",
       "      <td>South-West - houses</td>\n",
       "      <td>%</td>\n",
       "      <td>11.9</td>\n",
       "    </tr>\n",
       "  </tbody>\n",
       "</table>\n",
       "<p>16080 rows × 5 columns</p>\n",
       "</div>"
      ],
      "text/plain": [
       "                                               Statistic    Month  \\\n",
       "0                       Residential Property Price Index  2005M01   \n",
       "1                       Residential Property Price Index  2005M01   \n",
       "2                       Residential Property Price Index  2005M01   \n",
       "3                       Residential Property Price Index  2005M01   \n",
       "4                       Residential Property Price Index  2005M01   \n",
       "...                                                  ...      ...   \n",
       "16075  Percentage Change over 12 months for Residenti...  2021M09   \n",
       "16076  Percentage Change over 12 months for Residenti...  2021M09   \n",
       "16077  Percentage Change over 12 months for Residenti...  2021M09   \n",
       "16078  Percentage Change over 12 months for Residenti...  2021M09   \n",
       "16079  Percentage Change over 12 months for Residenti...  2021M09   \n",
       "\n",
       "                Type of Residential Property           UNIT  VALUE  \n",
       "0      National - all residential properties  Base 2015=100  124.9  \n",
       "1                          National - houses  Base 2015=100  120.7  \n",
       "2                      National - apartments  Base 2015=100  153.4  \n",
       "3        Dublin - all residential properties  Base 2015=100  118.5  \n",
       "4                            Dublin - houses  Base 2015=100  112.0  \n",
       "...                                      ...            ...    ...  \n",
       "16075                          West - houses              %   14.0  \n",
       "16076                      Mid-East - houses              %   10.7  \n",
       "16077                      Mid-West - houses              %   13.0  \n",
       "16078                    South-East - houses              %   16.3  \n",
       "16079                    South-West - houses              %   11.9  \n",
       "\n",
       "[16080 rows x 5 columns]"
      ]
     },
     "execution_count": 2,
     "metadata": {},
     "output_type": "execute_result"
    }
   ],
   "source": [
    "# https://data.cso.ie/table/HPM09\n",
    "property_price_data = pd.read_csv(os.path.join(TABLE_DIR, \"ResidentialPropertyPriceIndex.csv\"))\n",
    "property_price_data"
   ]
  },
  {
   "cell_type": "code",
   "execution_count": 10,
   "metadata": {},
   "outputs": [
    {
     "data": {
      "text/plain": [
       "<AxesSubplot:>"
      ]
     },
     "execution_count": 10,
     "metadata": {},
     "output_type": "execute_result"
    },
    {
     "data": {
      "image/png": "[encoded data removed]",
      "text/plain": [
       "<Figure size 432x288 with 1 Axes>"
      ]
     },
     "metadata": {
      "needs_background": "light"
     },
     "output_type": "display_data"
    }
   ],
   "source": [
    "all_properties = property_price_data.loc[(property_price_data[\"Type of Residential Property\"] == \"National - all residential properties\") & (property_price_data[\"UNIT\"] == \"Base 2015=100\")]\n",
    "pd.DataFrame(\n",
    "    {\n",
    "        \"Percentage of household\": all_properties[\"VALUE\"].tolist(), \n",
    "    },\n",
    "    index=all_properties[\"Month\"].tolist()\n",
    ").plot.bar()"
   ]
  },
  {
   "cell_type": "code",
   "execution_count": 11,
   "metadata": {},
   "outputs": [
    {
     "data": {
      "text/html": [
       "<div>\n",
       "<style scoped>\n",
       "    .dataframe tbody tr th:only-of-type {\n",
       "        vertical-align: middle;\n",
       "    }\n",
       "\n",
       "    .dataframe tbody tr th {\n",
       "        vertical-align: top;\n",
       "    }\n",
       "\n",
       "    .dataframe thead th {\n",
       "        text-align: right;\n",
       "    }\n",
       "</style>\n",
       "<table border=\"1\" class=\"dataframe\">\n",
       "  <thead>\n",
       "    <tr style=\"text-align: right;\">\n",
       "      <th></th>\n",
       "      <th>Statistic</th>\n",
       "      <th>Month</th>\n",
       "      <th>Type of Residential Property</th>\n",
       "      <th>UNIT</th>\n",
       "      <th>VALUE</th>\n",
       "    </tr>\n",
       "  </thead>\n",
       "  <tbody>\n",
       "    <tr>\n",
       "      <th>0</th>\n",
       "      <td>Residential Property Price Index</td>\n",
       "      <td>2005M01</td>\n",
       "      <td>National - all residential properties</td>\n",
       "      <td>Base 2015=100</td>\n",
       "      <td>124.9</td>\n",
       "    </tr>\n",
       "    <tr>\n",
       "      <th>1</th>\n",
       "      <td>Residential Property Price Index</td>\n",
       "      <td>2005M01</td>\n",
       "      <td>National - houses</td>\n",
       "      <td>Base 2015=100</td>\n",
       "      <td>120.7</td>\n",
       "    </tr>\n",
       "    <tr>\n",
       "      <th>2</th>\n",
       "      <td>Residential Property Price Index</td>\n",
       "      <td>2005M01</td>\n",
       "      <td>National - apartments</td>\n",
       "      <td>Base 2015=100</td>\n",
       "      <td>153.4</td>\n",
       "    </tr>\n",
       "    <tr>\n",
       "      <th>3</th>\n",
       "      <td>Residential Property Price Index</td>\n",
       "      <td>2005M01</td>\n",
       "      <td>Dublin - all residential properties</td>\n",
       "      <td>Base 2015=100</td>\n",
       "      <td>118.5</td>\n",
       "    </tr>\n",
       "    <tr>\n",
       "      <th>4</th>\n",
       "      <td>Residential Property Price Index</td>\n",
       "      <td>2005M01</td>\n",
       "      <td>Dublin - houses</td>\n",
       "      <td>Base 2015=100</td>\n",
       "      <td>112.0</td>\n",
       "    </tr>\n",
       "    <tr>\n",
       "      <th>...</th>\n",
       "      <td>...</td>\n",
       "      <td>...</td>\n",
       "      <td>...</td>\n",
       "      <td>...</td>\n",
       "      <td>...</td>\n",
       "    </tr>\n",
       "    <tr>\n",
       "      <th>16075</th>\n",
       "      <td>Percentage Change over 12 months for Residenti...</td>\n",
       "      <td>2021M09</td>\n",
       "      <td>West - houses</td>\n",
       "      <td>%</td>\n",
       "      <td>14.0</td>\n",
       "    </tr>\n",
       "    <tr>\n",
       "      <th>16076</th>\n",
       "      <td>Percentage Change over 12 months for Residenti...</td>\n",
       "      <td>2021M09</td>\n",
       "      <td>Mid-East - houses</td>\n",
       "      <td>%</td>\n",
       "      <td>10.7</td>\n",
       "    </tr>\n",
       "    <tr>\n",
       "      <th>16077</th>\n",
       "      <td>Percentage Change over 12 months for Residenti...</td>\n",
       "      <td>2021M09</td>\n",
       "      <td>Mid-West - houses</td>\n",
       "      <td>%</td>\n",
       "      <td>13.0</td>\n",
       "    </tr>\n",
       "    <tr>\n",
       "      <th>16078</th>\n",
       "      <td>Percentage Change over 12 months for Residenti...</td>\n",
       "      <td>2021M09</td>\n",
       "      <td>South-East - houses</td>\n",
       "      <td>%</td>\n",
       "      <td>16.3</td>\n",
       "    </tr>\n",
       "    <tr>\n",
       "      <th>16079</th>\n",
       "      <td>Percentage Change over 12 months for Residenti...</td>\n",
       "      <td>2021M09</td>\n",
       "      <td>South-West - houses</td>\n",
       "      <td>%</td>\n",
       "      <td>11.9</td>\n",
       "    </tr>\n",
       "  </tbody>\n",
       "</table>\n",
       "<p>16080 rows × 5 columns</p>\n",
       "</div>"
      ],
      "text/plain": [
       "                                               Statistic    Month  \\\n",
       "0                       Residential Property Price Index  2005M01   \n",
       "1                       Residential Property Price Index  2005M01   \n",
       "2                       Residential Property Price Index  2005M01   \n",
       "3                       Residential Property Price Index  2005M01   \n",
       "4                       Residential Property Price Index  2005M01   \n",
       "...                                                  ...      ...   \n",
       "16075  Percentage Change over 12 months for Residenti...  2021M09   \n",
       "16076  Percentage Change over 12 months for Residenti...  2021M09   \n",
       "16077  Percentage Change over 12 months for Residenti...  2021M09   \n",
       "16078  Percentage Change over 12 months for Residenti...  2021M09   \n",
       "16079  Percentage Change over 12 months for Residenti...  2021M09   \n",
       "\n",
       "                Type of Residential Property           UNIT  VALUE  \n",
       "0      National - all residential properties  Base 2015=100  124.9  \n",
       "1                          National - houses  Base 2015=100  120.7  \n",
       "2                      National - apartments  Base 2015=100  153.4  \n",
       "3        Dublin - all residential properties  Base 2015=100  118.5  \n",
       "4                            Dublin - houses  Base 2015=100  112.0  \n",
       "...                                      ...            ...    ...  \n",
       "16075                          West - houses              %   14.0  \n",
       "16076                      Mid-East - houses              %   10.7  \n",
       "16077                      Mid-West - houses              %   13.0  \n",
       "16078                    South-East - houses              %   16.3  \n",
       "16079                    South-West - houses              %   11.9  \n",
       "\n",
       "[16080 rows x 5 columns]"
      ]
     },
     "execution_count": 11,
     "metadata": {},
     "output_type": "execute_result"
    }
   ],
   "source": [
    "property_price_data"
   ]
  },
  {
   "cell_type": "code",
   "execution_count": 12,
   "metadata": {},
   "outputs": [
    {
     "data": {
      "text/plain": [
       "<AxesSubplot:>"
      ]
     },
     "execution_count": 12,
     "metadata": {},
     "output_type": "execute_result"
    },
    {
     "data": {
      "image/png": "[encoded data removed]",
      "text/plain": [
       "<Figure size 432x288 with 1 Axes>"
      ]
     },
     "metadata": {
      "needs_background": "light"
     },
     "output_type": "display_data"
    }
   ],
   "source": [
    "houses = property_price_data.loc[(property_price_data[\"Type of Residential Property\"] == \"National - houses\") & (property_price_data[\"UNIT\"] == \"Base 2015=100\")]\n",
    "pd.DataFrame(\n",
    "    {\n",
    "        \"Percentage of household\": houses[\"VALUE\"].tolist(), \n",
    "    },\n",
    "    index=houses[\"Month\"].tolist()\n",
    ").plot.bar()"
   ]
  },
  {
   "cell_type": "code",
   "execution_count": 13,
   "metadata": {},
   "outputs": [
    {
     "data": {
      "text/plain": [
       "<AxesSubplot:>"
      ]
     },
     "execution_count": 13,
     "metadata": {},
     "output_type": "execute_result"
    },
    {
     "data": {
      "image/png": "[encoded data removed]",
      "text/plain": [
       "<Figure size 432x288 with 1 Axes>"
      ]
     },
     "metadata": {
      "needs_background": "light"
     },
     "output_type": "display_data"
    }
   ],
   "source": [
    "appartments = property_price_data.loc[(property_price_data[\"Type of Residential Property\"] == \"National - apartments\") & (property_price_data[\"UNIT\"] == \"Base 2015=100\")]\n",
    "pd.DataFrame(\n",
    "    {\n",
    "        \"Percentage of household\": appartments[\"VALUE\"].tolist(), \n",
    "    },\n",
    "    index=appartments[\"Month\"].tolist()\n",
    ").plot.bar()"
   ]
  },
  {
   "cell_type": "code",
   "execution_count": 15,
   "metadata": {},
   "outputs": [
    {
     "data": {
      "text/plain": [
       "array([[1.        , 0.97142236],\n",
       "       [0.97142236, 1.        ]])"
      ]
     },
     "execution_count": 15,
     "metadata": {},
     "output_type": "execute_result"
    }
   ],
   "source": [
    "# Pearson product-moment correlation coefficients.\n",
    "np.corrcoef(appartments[\"VALUE\"].tolist(), houses[\"VALUE\"].tolist())"
   ]
  },
  {
   "cell_type": "code",
   "execution_count": null,
   "metadata": {},
   "outputs": [],
   "source": []
  }
 ],
 "metadata": {
  "kernelspec": {
   "display_name": "Python 3",
   "language": "python",
   "name": "python3"
  },
  "language_info": {
   "codemirror_mode": {
    "name": "ipython",
    "version": 3
   },
   "file_extension": ".py",
   "mimetype": "text/x-python",
   "name": "python",
   "nbconvert_exporter": "python",
   "pygments_lexer": "ipython3",
   "version": "3.8.10"
  }
 },
 "nbformat": 4,
 "nbformat_minor": 4
}

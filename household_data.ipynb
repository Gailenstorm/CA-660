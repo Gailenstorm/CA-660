{
 "cells": [
  {
   "cell_type": "code",
   "execution_count": 1,
   "metadata": {},
   "outputs": [],
   "source": [
    "import pandas as pd\n",
    "import numpy as np\n",
    "import os\n",
    "import matplotlib.pyplot as plt\n",
    "TABLE_DIR = \"tables\""
   ]
  },
  {
   "cell_type": "code",
   "execution_count": 2,
   "metadata": {
    "scrolled": true
   },
   "outputs": [
    {
     "data": {
      "text/html": [
       "<div>\n",
       "<style scoped>\n",
       "    .dataframe tbody tr th:only-of-type {\n",
       "        vertical-align: middle;\n",
       "    }\n",
       "\n",
       "    .dataframe tbody tr th {\n",
       "        vertical-align: top;\n",
       "    }\n",
       "\n",
       "    .dataframe thead th {\n",
       "        text-align: right;\n",
       "    }\n",
       "</style>\n",
       "<table border=\"1\" class=\"dataframe\">\n",
       "  <thead>\n",
       "    <tr style=\"text-align: right;\">\n",
       "      <th></th>\n",
       "      <th>Statistic</th>\n",
       "      <th>Year</th>\n",
       "      <th>Location</th>\n",
       "      <th>Year built</th>\n",
       "      <th>UNIT</th>\n",
       "      <th>VALUE</th>\n",
       "    </tr>\n",
       "  </thead>\n",
       "  <tbody>\n",
       "    <tr>\n",
       "      <th>0</th>\n",
       "      <td>Household accomodation</td>\n",
       "      <td>2015</td>\n",
       "      <td>State</td>\n",
       "      <td>Pre 1918</td>\n",
       "      <td>%</td>\n",
       "      <td>9.6</td>\n",
       "    </tr>\n",
       "    <tr>\n",
       "      <th>1</th>\n",
       "      <td>Household accomodation</td>\n",
       "      <td>2015</td>\n",
       "      <td>State</td>\n",
       "      <td>1918-1945</td>\n",
       "      <td>%</td>\n",
       "      <td>6.8</td>\n",
       "    </tr>\n",
       "    <tr>\n",
       "      <th>2</th>\n",
       "      <td>Household accomodation</td>\n",
       "      <td>2015</td>\n",
       "      <td>State</td>\n",
       "      <td>1946-1960</td>\n",
       "      <td>%</td>\n",
       "      <td>8.0</td>\n",
       "    </tr>\n",
       "    <tr>\n",
       "      <th>3</th>\n",
       "      <td>Household accomodation</td>\n",
       "      <td>2015</td>\n",
       "      <td>State</td>\n",
       "      <td>1961-1970</td>\n",
       "      <td>%</td>\n",
       "      <td>6.9</td>\n",
       "    </tr>\n",
       "    <tr>\n",
       "      <th>4</th>\n",
       "      <td>Household accomodation</td>\n",
       "      <td>2015</td>\n",
       "      <td>State</td>\n",
       "      <td>1971-1980</td>\n",
       "      <td>%</td>\n",
       "      <td>15.7</td>\n",
       "    </tr>\n",
       "    <tr>\n",
       "      <th>5</th>\n",
       "      <td>Household accomodation</td>\n",
       "      <td>2015</td>\n",
       "      <td>State</td>\n",
       "      <td>1981-1990</td>\n",
       "      <td>%</td>\n",
       "      <td>9.7</td>\n",
       "    </tr>\n",
       "    <tr>\n",
       "      <th>6</th>\n",
       "      <td>Household accomodation</td>\n",
       "      <td>2015</td>\n",
       "      <td>State</td>\n",
       "      <td>1991-2000</td>\n",
       "      <td>%</td>\n",
       "      <td>15.9</td>\n",
       "    </tr>\n",
       "    <tr>\n",
       "      <th>7</th>\n",
       "      <td>Household accomodation</td>\n",
       "      <td>2015</td>\n",
       "      <td>State</td>\n",
       "      <td>2001-2010</td>\n",
       "      <td>%</td>\n",
       "      <td>27.0</td>\n",
       "    </tr>\n",
       "    <tr>\n",
       "      <th>8</th>\n",
       "      <td>Household accomodation</td>\n",
       "      <td>2015</td>\n",
       "      <td>State</td>\n",
       "      <td>2011 &amp; later</td>\n",
       "      <td>%</td>\n",
       "      <td>0.5</td>\n",
       "    </tr>\n",
       "    <tr>\n",
       "      <th>9</th>\n",
       "      <td>Household accomodation</td>\n",
       "      <td>2015</td>\n",
       "      <td>Urban areas</td>\n",
       "      <td>Pre 1918</td>\n",
       "      <td>%</td>\n",
       "      <td>7.8</td>\n",
       "    </tr>\n",
       "    <tr>\n",
       "      <th>10</th>\n",
       "      <td>Household accomodation</td>\n",
       "      <td>2015</td>\n",
       "      <td>Urban areas</td>\n",
       "      <td>1918-1945</td>\n",
       "      <td>%</td>\n",
       "      <td>6.6</td>\n",
       "    </tr>\n",
       "    <tr>\n",
       "      <th>11</th>\n",
       "      <td>Household accomodation</td>\n",
       "      <td>2015</td>\n",
       "      <td>Urban areas</td>\n",
       "      <td>1946-1960</td>\n",
       "      <td>%</td>\n",
       "      <td>8.6</td>\n",
       "    </tr>\n",
       "    <tr>\n",
       "      <th>12</th>\n",
       "      <td>Household accomodation</td>\n",
       "      <td>2015</td>\n",
       "      <td>Urban areas</td>\n",
       "      <td>1961-1970</td>\n",
       "      <td>%</td>\n",
       "      <td>7.7</td>\n",
       "    </tr>\n",
       "    <tr>\n",
       "      <th>13</th>\n",
       "      <td>Household accomodation</td>\n",
       "      <td>2015</td>\n",
       "      <td>Urban areas</td>\n",
       "      <td>1971-1980</td>\n",
       "      <td>%</td>\n",
       "      <td>15.8</td>\n",
       "    </tr>\n",
       "    <tr>\n",
       "      <th>14</th>\n",
       "      <td>Household accomodation</td>\n",
       "      <td>2015</td>\n",
       "      <td>Urban areas</td>\n",
       "      <td>1981-1990</td>\n",
       "      <td>%</td>\n",
       "      <td>8.5</td>\n",
       "    </tr>\n",
       "    <tr>\n",
       "      <th>15</th>\n",
       "      <td>Household accomodation</td>\n",
       "      <td>2015</td>\n",
       "      <td>Urban areas</td>\n",
       "      <td>1991-2000</td>\n",
       "      <td>%</td>\n",
       "      <td>15.8</td>\n",
       "    </tr>\n",
       "    <tr>\n",
       "      <th>16</th>\n",
       "      <td>Household accomodation</td>\n",
       "      <td>2015</td>\n",
       "      <td>Urban areas</td>\n",
       "      <td>2001-2010</td>\n",
       "      <td>%</td>\n",
       "      <td>28.8</td>\n",
       "    </tr>\n",
       "    <tr>\n",
       "      <th>17</th>\n",
       "      <td>Household accomodation</td>\n",
       "      <td>2015</td>\n",
       "      <td>Urban areas</td>\n",
       "      <td>2011 &amp; later</td>\n",
       "      <td>%</td>\n",
       "      <td>0.4</td>\n",
       "    </tr>\n",
       "    <tr>\n",
       "      <th>18</th>\n",
       "      <td>Household accomodation</td>\n",
       "      <td>2015</td>\n",
       "      <td>Rural areas</td>\n",
       "      <td>Pre 1918</td>\n",
       "      <td>%</td>\n",
       "      <td>13.8</td>\n",
       "    </tr>\n",
       "    <tr>\n",
       "      <th>19</th>\n",
       "      <td>Household accomodation</td>\n",
       "      <td>2015</td>\n",
       "      <td>Rural areas</td>\n",
       "      <td>1918-1945</td>\n",
       "      <td>%</td>\n",
       "      <td>7.4</td>\n",
       "    </tr>\n",
       "    <tr>\n",
       "      <th>20</th>\n",
       "      <td>Household accomodation</td>\n",
       "      <td>2015</td>\n",
       "      <td>Rural areas</td>\n",
       "      <td>1946-1960</td>\n",
       "      <td>%</td>\n",
       "      <td>6.5</td>\n",
       "    </tr>\n",
       "    <tr>\n",
       "      <th>21</th>\n",
       "      <td>Household accomodation</td>\n",
       "      <td>2015</td>\n",
       "      <td>Rural areas</td>\n",
       "      <td>1961-1970</td>\n",
       "      <td>%</td>\n",
       "      <td>4.8</td>\n",
       "    </tr>\n",
       "    <tr>\n",
       "      <th>22</th>\n",
       "      <td>Household accomodation</td>\n",
       "      <td>2015</td>\n",
       "      <td>Rural areas</td>\n",
       "      <td>1971-1980</td>\n",
       "      <td>%</td>\n",
       "      <td>15.3</td>\n",
       "    </tr>\n",
       "    <tr>\n",
       "      <th>23</th>\n",
       "      <td>Household accomodation</td>\n",
       "      <td>2015</td>\n",
       "      <td>Rural areas</td>\n",
       "      <td>1981-1990</td>\n",
       "      <td>%</td>\n",
       "      <td>12.6</td>\n",
       "    </tr>\n",
       "    <tr>\n",
       "      <th>24</th>\n",
       "      <td>Household accomodation</td>\n",
       "      <td>2015</td>\n",
       "      <td>Rural areas</td>\n",
       "      <td>1991-2000</td>\n",
       "      <td>%</td>\n",
       "      <td>15.9</td>\n",
       "    </tr>\n",
       "    <tr>\n",
       "      <th>25</th>\n",
       "      <td>Household accomodation</td>\n",
       "      <td>2015</td>\n",
       "      <td>Rural areas</td>\n",
       "      <td>2001-2010</td>\n",
       "      <td>%</td>\n",
       "      <td>22.7</td>\n",
       "    </tr>\n",
       "    <tr>\n",
       "      <th>26</th>\n",
       "      <td>Household accomodation</td>\n",
       "      <td>2015</td>\n",
       "      <td>Rural areas</td>\n",
       "      <td>2011 &amp; later</td>\n",
       "      <td>%</td>\n",
       "      <td>1.0</td>\n",
       "    </tr>\n",
       "  </tbody>\n",
       "</table>\n",
       "</div>"
      ],
      "text/plain": [
       "                 Statistic  Year     Location    Year built UNIT  VALUE\n",
       "0   Household accomodation  2015        State      Pre 1918    %    9.6\n",
       "1   Household accomodation  2015        State     1918-1945    %    6.8\n",
       "2   Household accomodation  2015        State     1946-1960    %    8.0\n",
       "3   Household accomodation  2015        State     1961-1970    %    6.9\n",
       "4   Household accomodation  2015        State     1971-1980    %   15.7\n",
       "5   Household accomodation  2015        State     1981-1990    %    9.7\n",
       "6   Household accomodation  2015        State     1991-2000    %   15.9\n",
       "7   Household accomodation  2015        State     2001-2010    %   27.0\n",
       "8   Household accomodation  2015        State  2011 & later    %    0.5\n",
       "9   Household accomodation  2015  Urban areas      Pre 1918    %    7.8\n",
       "10  Household accomodation  2015  Urban areas     1918-1945    %    6.6\n",
       "11  Household accomodation  2015  Urban areas     1946-1960    %    8.6\n",
       "12  Household accomodation  2015  Urban areas     1961-1970    %    7.7\n",
       "13  Household accomodation  2015  Urban areas     1971-1980    %   15.8\n",
       "14  Household accomodation  2015  Urban areas     1981-1990    %    8.5\n",
       "15  Household accomodation  2015  Urban areas     1991-2000    %   15.8\n",
       "16  Household accomodation  2015  Urban areas     2001-2010    %   28.8\n",
       "17  Household accomodation  2015  Urban areas  2011 & later    %    0.4\n",
       "18  Household accomodation  2015  Rural areas      Pre 1918    %   13.8\n",
       "19  Household accomodation  2015  Rural areas     1918-1945    %    7.4\n",
       "20  Household accomodation  2015  Rural areas     1946-1960    %    6.5\n",
       "21  Household accomodation  2015  Rural areas     1961-1970    %    4.8\n",
       "22  Household accomodation  2015  Rural areas     1971-1980    %   15.3\n",
       "23  Household accomodation  2015  Rural areas     1981-1990    %   12.6\n",
       "24  Household accomodation  2015  Rural areas     1991-2000    %   15.9\n",
       "25  Household accomodation  2015  Rural areas     2001-2010    %   22.7\n",
       "26  Household accomodation  2015  Rural areas  2011 & later    %    1.0"
      ]
     },
     "execution_count": 2,
     "metadata": {},
     "output_type": "execute_result"
    }
   ],
   "source": [
    "# https://data.cso.ie/table/HS019\n",
    "household_data = pd.read_csv(os.path.join(TABLE_DIR, \"HouseholdAccommodation.csv\"))\n",
    "household_data"
   ]
  },
  {
   "cell_type": "code",
   "execution_count": 21,
   "metadata": {},
   "outputs": [
    {
     "data": {
      "text/plain": [
       "<AxesSubplot:>"
      ]
     },
     "execution_count": 21,
     "metadata": {},
     "output_type": "execute_result"
    },
    {
     "data": {
      "image/png": "[encoded data removed]",
      "text/plain": [
       "<Figure size 432x288 with 1 Axes>"
      ]
     },
     "metadata": {
      "needs_background": "light"
     },
     "output_type": "display_data"
    }
   ],
   "source": [
    "state = household_data.loc[household_data[\"Location\"] == \"State\"]\n",
    "pd.DataFrame(\n",
    "    {\n",
    "        \"Percentage of household\": state[\"VALUE\"].tolist(), \n",
    "    },\n",
    "    index=household_data[\"Year built\"].unique()\n",
    ").plot.bar()"
   ]
  },
  {
   "cell_type": "code",
   "execution_count": 22,
   "metadata": {},
   "outputs": [
    {
     "data": {
      "text/plain": [
       "<AxesSubplot:>"
      ]
     },
     "execution_count": 22,
     "metadata": {},
     "output_type": "execute_result"
    },
    {
     "data": {
      "image/png": "[encoded data removed]",
      "text/plain": [
       "<Figure size 432x288 with 1 Axes>"
      ]
     },
     "metadata": {
      "needs_background": "light"
     },
     "output_type": "display_data"
    }
   ],
   "source": [
    "urban = household_data.loc[household_data[\"Location\"] == \"Urban areas\"]\n",
    "pd.DataFrame(\n",
    "    {\n",
    "        \"Percentage of household\": urban[\"VALUE\"].tolist(), \n",
    "    },\n",
    "    index=urban[\"Year built\"].unique()\n",
    ").plot.bar()"
   ]
  },
  {
   "cell_type": "code",
   "execution_count": 23,
   "metadata": {},
   "outputs": [
    {
     "data": {
      "text/plain": [
       "<AxesSubplot:>"
      ]
     },
     "execution_count": 23,
     "metadata": {},
     "output_type": "execute_result"
    },
    {
     "data": {
      "image/png": "[encoded data removed]",
      "text/plain": [
       "<Figure size 432x288 with 1 Axes>"
      ]
     },
     "metadata": {
      "needs_background": "light"
     },
     "output_type": "display_data"
    }
   ],
   "source": [
    "rural = household_data.loc[household_data[\"Location\"] == \"Rural areas\"]\n",
    "pd.DataFrame(\n",
    "    {\n",
    "        \"Percentage of household\": rural[\"VALUE\"].tolist(), \n",
    "    },\n",
    "    index=rural[\"Year built\"].unique()\n",
    ").plot.bar()"
   ]
  },
  {
   "cell_type": "code",
   "execution_count": 24,
   "metadata": {},
   "outputs": [
    {
     "data": {
      "text/plain": [
       "array([[1.        , 0.89877507],\n",
       "       [0.89877507, 1.        ]])"
      ]
     },
     "execution_count": 24,
     "metadata": {},
     "output_type": "execute_result"
    }
   ],
   "source": [
    "# Pearson product-moment correlation coefficients.\n",
    "np.corrcoef(urban[\"VALUE\"].tolist(), rural[\"VALUE\"].tolist())"
   ]
  },
  {
   "cell_type": "code",
   "execution_count": null,
   "metadata": {},
   "outputs": [],
   "source": []
  }
 ],
 "metadata": {
  "kernelspec": {
   "display_name": "Python 3",
   "language": "python",
   "name": "python3"
  },
  "language_info": {
   "codemirror_mode": {
    "name": "ipython",
    "version": 3
   },
   "file_extension": ".py",
   "mimetype": "text/x-python",
   "name": "python",
   "nbconvert_exporter": "python",
   "pygments_lexer": "ipython3",
   "version": "3.8.10"
  }
 },
 "nbformat": 4,
 "nbformat_minor": 4
}

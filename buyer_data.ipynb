{
 "cells": [
  {
   "cell_type": "code",
   "execution_count": 26,
   "metadata": {},
   "outputs": [],
   "source": [
    "import pandas as pd\n",
    "import numpy as np\n",
    "import os\n",
    "import matplotlib.pyplot as plt\n",
    "TABLE_DIR = \"tables\""
   ]
  },
  {
   "cell_type": "code",
   "execution_count": 27,
   "metadata": {
    "scrolled": true
   },
   "outputs": [
    {
     "data": {
      "text/html": [
       "<div>\n",
       "<style scoped>\n",
       "    .dataframe tbody tr th:only-of-type {\n",
       "        vertical-align: middle;\n",
       "    }\n",
       "\n",
       "    .dataframe tbody tr th {\n",
       "        vertical-align: top;\n",
       "    }\n",
       "\n",
       "    .dataframe thead th {\n",
       "        text-align: right;\n",
       "    }\n",
       "</style>\n",
       "<table border=\"1\" class=\"dataframe\">\n",
       "  <thead>\n",
       "    <tr style=\"text-align: right;\">\n",
       "      <th></th>\n",
       "      <th>Statistic</th>\n",
       "      <th>Month</th>\n",
       "      <th>Dwelling Status</th>\n",
       "      <th>Eircode Output</th>\n",
       "      <th>Stamp Duty Event</th>\n",
       "      <th>Type of Buyer</th>\n",
       "      <th>UNIT</th>\n",
       "      <th>VALUE</th>\n",
       "    </tr>\n",
       "  </thead>\n",
       "  <tbody>\n",
       "    <tr>\n",
       "      <th>0</th>\n",
       "      <td>Volume of Sales</td>\n",
       "      <td>2010M01</td>\n",
       "      <td>All Dwelling Statuses</td>\n",
       "      <td>All</td>\n",
       "      <td>Filings</td>\n",
       "      <td>All Buyer Types</td>\n",
       "      <td>Number</td>\n",
       "      <td>982.0</td>\n",
       "    </tr>\n",
       "    <tr>\n",
       "      <th>1</th>\n",
       "      <td>Volume of Sales</td>\n",
       "      <td>2010M01</td>\n",
       "      <td>All Dwelling Statuses</td>\n",
       "      <td>All</td>\n",
       "      <td>Filings</td>\n",
       "      <td>Household Buyer - First-Time Buyer Owner-Occupier</td>\n",
       "      <td>Number</td>\n",
       "      <td>534.0</td>\n",
       "    </tr>\n",
       "    <tr>\n",
       "      <th>2</th>\n",
       "      <td>Volume of Sales</td>\n",
       "      <td>2010M01</td>\n",
       "      <td>All Dwelling Statuses</td>\n",
       "      <td>All</td>\n",
       "      <td>Filings</td>\n",
       "      <td>Household Buyer - Former Owner-Occupier</td>\n",
       "      <td>Number</td>\n",
       "      <td>292.0</td>\n",
       "    </tr>\n",
       "    <tr>\n",
       "      <th>3</th>\n",
       "      <td>Volume of Sales</td>\n",
       "      <td>2010M01</td>\n",
       "      <td>All Dwelling Statuses</td>\n",
       "      <td>All</td>\n",
       "      <td>Filings</td>\n",
       "      <td>Household Buyer - Non-Occupier</td>\n",
       "      <td>Number</td>\n",
       "      <td>156.0</td>\n",
       "    </tr>\n",
       "    <tr>\n",
       "      <th>4</th>\n",
       "      <td>Volume of Sales</td>\n",
       "      <td>2010M01</td>\n",
       "      <td>All Dwelling Statuses</td>\n",
       "      <td>All</td>\n",
       "      <td>Executions</td>\n",
       "      <td>All Buyer Types</td>\n",
       "      <td>Number</td>\n",
       "      <td>947.0</td>\n",
       "    </tr>\n",
       "    <tr>\n",
       "      <th>...</th>\n",
       "      <td>...</td>\n",
       "      <td>...</td>\n",
       "      <td>...</td>\n",
       "      <td>...</td>\n",
       "      <td>...</td>\n",
       "      <td>...</td>\n",
       "      <td>...</td>\n",
       "      <td>...</td>\n",
       "    </tr>\n",
       "    <tr>\n",
       "      <th>315835</th>\n",
       "      <td>Mean Sale Price</td>\n",
       "      <td>2021M09</td>\n",
       "      <td>All Dwelling Statuses</td>\n",
       "      <td>Y35: Wexford</td>\n",
       "      <td>Filings</td>\n",
       "      <td>Household Buyer - Non-Occupier</td>\n",
       "      <td>Euro</td>\n",
       "      <td>231454.0</td>\n",
       "    </tr>\n",
       "    <tr>\n",
       "      <th>315836</th>\n",
       "      <td>Mean Sale Price</td>\n",
       "      <td>2021M09</td>\n",
       "      <td>All Dwelling Statuses</td>\n",
       "      <td>Y35: Wexford</td>\n",
       "      <td>Executions</td>\n",
       "      <td>All Buyer Types</td>\n",
       "      <td>Euro</td>\n",
       "      <td>258224.0</td>\n",
       "    </tr>\n",
       "    <tr>\n",
       "      <th>315837</th>\n",
       "      <td>Mean Sale Price</td>\n",
       "      <td>2021M09</td>\n",
       "      <td>All Dwelling Statuses</td>\n",
       "      <td>Y35: Wexford</td>\n",
       "      <td>Executions</td>\n",
       "      <td>Household Buyer - First-Time Buyer Owner-Occupier</td>\n",
       "      <td>Euro</td>\n",
       "      <td>178700.0</td>\n",
       "    </tr>\n",
       "    <tr>\n",
       "      <th>315838</th>\n",
       "      <td>Mean Sale Price</td>\n",
       "      <td>2021M09</td>\n",
       "      <td>All Dwelling Statuses</td>\n",
       "      <td>Y35: Wexford</td>\n",
       "      <td>Executions</td>\n",
       "      <td>Household Buyer - Former Owner-Occupier</td>\n",
       "      <td>Euro</td>\n",
       "      <td>275375.0</td>\n",
       "    </tr>\n",
       "    <tr>\n",
       "      <th>315839</th>\n",
       "      <td>Mean Sale Price</td>\n",
       "      <td>2021M09</td>\n",
       "      <td>All Dwelling Statuses</td>\n",
       "      <td>Y35: Wexford</td>\n",
       "      <td>Executions</td>\n",
       "      <td>Household Buyer - Non-Occupier</td>\n",
       "      <td>Euro</td>\n",
       "      <td>256667.0</td>\n",
       "    </tr>\n",
       "  </tbody>\n",
       "</table>\n",
       "<p>315840 rows × 8 columns</p>\n",
       "</div>"
      ],
      "text/plain": [
       "              Statistic    Month        Dwelling Status Eircode Output  \\\n",
       "0       Volume of Sales  2010M01  All Dwelling Statuses            All   \n",
       "1       Volume of Sales  2010M01  All Dwelling Statuses            All   \n",
       "2       Volume of Sales  2010M01  All Dwelling Statuses            All   \n",
       "3       Volume of Sales  2010M01  All Dwelling Statuses            All   \n",
       "4       Volume of Sales  2010M01  All Dwelling Statuses            All   \n",
       "...                 ...      ...                    ...            ...   \n",
       "315835  Mean Sale Price  2021M09  All Dwelling Statuses   Y35: Wexford   \n",
       "315836  Mean Sale Price  2021M09  All Dwelling Statuses   Y35: Wexford   \n",
       "315837  Mean Sale Price  2021M09  All Dwelling Statuses   Y35: Wexford   \n",
       "315838  Mean Sale Price  2021M09  All Dwelling Statuses   Y35: Wexford   \n",
       "315839  Mean Sale Price  2021M09  All Dwelling Statuses   Y35: Wexford   \n",
       "\n",
       "       Stamp Duty Event                                      Type of Buyer  \\\n",
       "0               Filings                                    All Buyer Types   \n",
       "1               Filings  Household Buyer - First-Time Buyer Owner-Occupier   \n",
       "2               Filings            Household Buyer - Former Owner-Occupier   \n",
       "3               Filings                     Household Buyer - Non-Occupier   \n",
       "4            Executions                                    All Buyer Types   \n",
       "...                 ...                                                ...   \n",
       "315835          Filings                     Household Buyer - Non-Occupier   \n",
       "315836       Executions                                    All Buyer Types   \n",
       "315837       Executions  Household Buyer - First-Time Buyer Owner-Occupier   \n",
       "315838       Executions            Household Buyer - Former Owner-Occupier   \n",
       "315839       Executions                     Household Buyer - Non-Occupier   \n",
       "\n",
       "          UNIT     VALUE  \n",
       "0       Number     982.0  \n",
       "1       Number     534.0  \n",
       "2       Number     292.0  \n",
       "3       Number     156.0  \n",
       "4       Number     947.0  \n",
       "...        ...       ...  \n",
       "315835    Euro  231454.0  \n",
       "315836    Euro  258224.0  \n",
       "315837    Euro  178700.0  \n",
       "315838    Euro  275375.0  \n",
       "315839    Euro  256667.0  \n",
       "\n",
       "[315840 rows x 8 columns]"
      ]
     },
     "execution_count": 27,
     "metadata": {},
     "output_type": "execute_result"
    }
   ],
   "source": [
    "# https://data.cso.ie/table/HPM04\n",
    "buyer_data = pd.read_csv(os.path.join(TABLE_DIR, \"Market-basedHousholdPurchasesofRedisentialDwellings.csv\"))\n",
    "buyer_data"
   ]
  },
  {
   "cell_type": "code",
   "execution_count": 28,
   "metadata": {},
   "outputs": [],
   "source": [
    "filtered = buyer_data.loc[(buyer_data[\"Statistic\"] == \"Mean Sale Price\") & (buyer_data[\"Eircode Output\"] == \"All\") & (buyer_data[\"Stamp Duty Event\"] == \"Filings\")]"
   ]
  },
  {
   "cell_type": "code",
   "execution_count": 29,
   "metadata": {
    "scrolled": true
   },
   "outputs": [
    {
     "data": {
      "text/plain": [
       "<AxesSubplot:>"
      ]
     },
     "execution_count": 29,
     "metadata": {},
     "output_type": "execute_result"
    },
    {
     "data": {
      "image/png": "[encoded data removed]",
      "text/plain": [
       "<Figure size 432x288 with 1 Axes>"
      ]
     },
     "metadata": {
      "needs_background": "light"
     },
     "output_type": "display_data"
    }
   ],
   "source": [
    "all_buyers = filtered.loc[buyer_data[\"Type of Buyer\"] == \"All Buyer Types\"]\n",
    "pd.DataFrame(\n",
    "    {\n",
    "        \"Mean sale price\": all_buyers[\"VALUE\"].tolist(), \n",
    "    },\n",
    "    index=all_buyers[\"Month\"].unique()\n",
    ").plot.bar()"
   ]
  },
  {
   "cell_type": "code",
   "execution_count": 30,
   "metadata": {},
   "outputs": [
    {
     "data": {
      "text/plain": [
       "<AxesSubplot:>"
      ]
     },
     "execution_count": 30,
     "metadata": {},
     "output_type": "execute_result"
    },
    {
     "data": {
      "image/png": "[encoded data removed]",
      "text/plain": [
       "<Figure size 432x288 with 1 Axes>"
      ]
     },
     "metadata": {
      "needs_background": "light"
     },
     "output_type": "display_data"
    }
   ],
   "source": [
    "ftboo = filtered.loc[buyer_data[\"Type of Buyer\"] == \"Household Buyer - First-Time Buyer Owner-Occupier\"]\n",
    "pd.DataFrame(\n",
    "    {\n",
    "        \"Mean sale price\": ftboo[\"VALUE\"].tolist(), \n",
    "    },\n",
    "    index=ftboo[\"Month\"].unique()\n",
    ").plot.bar()"
   ]
  },
  {
   "cell_type": "code",
   "execution_count": 31,
   "metadata": {},
   "outputs": [
    {
     "data": {
      "text/plain": [
       "<AxesSubplot:>"
      ]
     },
     "execution_count": 31,
     "metadata": {},
     "output_type": "execute_result"
    },
    {
     "data": {
      "image/png": "[encoded data removed]",
      "text/plain": [
       "<Figure size 432x288 with 1 Axes>"
      ]
     },
     "metadata": {
      "needs_background": "light"
     },
     "output_type": "display_data"
    }
   ],
   "source": [
    "foo = filtered.loc[buyer_data[\"Type of Buyer\"] == \"Household Buyer - Former Owner-Occupier\"]\n",
    "pd.DataFrame(\n",
    "    {\n",
    "        \"Mean sale price\": foo[\"VALUE\"].tolist(), \n",
    "    },\n",
    "    index=foo[\"Month\"].unique()\n",
    ").plot.bar()"
   ]
  },
  {
   "cell_type": "code",
   "execution_count": 32,
   "metadata": {},
   "outputs": [
    {
     "data": {
      "text/plain": [
       "<AxesSubplot:>"
      ]
     },
     "execution_count": 32,
     "metadata": {},
     "output_type": "execute_result"
    },
    {
     "data": {
      "image/png": "[encoded data removed]",
      "text/plain": [
       "<Figure size 432x288 with 1 Axes>"
      ]
     },
     "metadata": {
      "needs_background": "light"
     },
     "output_type": "display_data"
    }
   ],
   "source": [
    "no = filtered.loc[buyer_data[\"Type of Buyer\"] == \"Household Buyer - Non-Occupier\"]\n",
    "pd.DataFrame(\n",
    "    {\n",
    "        \"Mean sale price\": no[\"VALUE\"].tolist(), \n",
    "    },\n",
    "    index=no[\"Month\"].unique()\n",
    ").plot.bar()"
   ]
  },
  {
   "cell_type": "code",
   "execution_count": 33,
   "metadata": {},
   "outputs": [
    {
     "data": {
      "text/plain": [
       "array([[1.        , 0.98143645],\n",
       "       [0.98143645, 1.        ]])"
      ]
     },
     "execution_count": 33,
     "metadata": {},
     "output_type": "execute_result"
    }
   ],
   "source": [
    "# Pearson product-moment correlation coefficients.\n",
    "np.corrcoef(all_buyers[\"VALUE\"].tolist(), ftboo[\"VALUE\"].tolist())"
   ]
  },
  {
   "cell_type": "code",
   "execution_count": 34,
   "metadata": {
    "scrolled": true
   },
   "outputs": [
    {
     "data": {
      "text/plain": [
       "array([[1.        , 0.89676878],\n",
       "       [0.89676878, 1.        ]])"
      ]
     },
     "execution_count": 34,
     "metadata": {},
     "output_type": "execute_result"
    }
   ],
   "source": [
    "# Pearson product-moment correlation coefficients.\n",
    "np.corrcoef(all_buyers[\"VALUE\"].tolist(), no[\"VALUE\"].tolist())"
   ]
  },
  {
   "cell_type": "code",
   "execution_count": 35,
   "metadata": {},
   "outputs": [
    {
     "data": {
      "text/plain": [
       "array([[1.        , 0.89676878],\n",
       "       [0.89676878, 1.        ]])"
      ]
     },
     "execution_count": 35,
     "metadata": {},
     "output_type": "execute_result"
    }
   ],
   "source": [
    "# Pearson product-moment correlation coefficients.\n",
    "np.corrcoef(all_buyers[\"VALUE\"].tolist(), no[\"VALUE\"].tolist())"
   ]
  },
  {
   "cell_type": "code",
   "execution_count": null,
   "metadata": {},
   "outputs": [],
   "source": []
  }
 ],
 "metadata": {
  "kernelspec": {
   "display_name": "Python 3",
   "language": "python",
   "name": "python3"
  },
  "language_info": {
   "codemirror_mode": {
    "name": "ipython",
    "version": 3
   },
   "file_extension": ".py",
   "mimetype": "text/x-python",
   "name": "python",
   "nbconvert_exporter": "python",
   "pygments_lexer": "ipython3",
   "version": "3.8.10"
  }
 },
 "nbformat": 4,
 "nbformat_minor": 4
}

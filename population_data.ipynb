{
 "cells": [
  {
   "cell_type": "code",
   "execution_count": 14,
   "metadata": {},
   "outputs": [],
   "source": [
    "import pandas as pd\n",
    "import numpy as np\n",
    "import os\n",
    "import matplotlib.pyplot as plt"
   ]
  },
  {
   "cell_type": "code",
   "execution_count": 3,
   "metadata": {},
   "outputs": [],
   "source": [
    "TABLE_DIR = \"tables\""
   ]
  },
  {
   "cell_type": "code",
   "execution_count": 70,
   "metadata": {},
   "outputs": [
    {
     "data": {
      "text/html": [
       "<div>\n",
       "<style scoped>\n",
       "    .dataframe tbody tr th:only-of-type {\n",
       "        vertical-align: middle;\n",
       "    }\n",
       "\n",
       "    .dataframe tbody tr th {\n",
       "        vertical-align: top;\n",
       "    }\n",
       "\n",
       "    .dataframe thead th {\n",
       "        text-align: right;\n",
       "    }\n",
       "</style>\n",
       "<table border=\"1\" class=\"dataframe\">\n",
       "  <thead>\n",
       "    <tr style=\"text-align: right;\">\n",
       "      <th></th>\n",
       "      <th>Statistic</th>\n",
       "      <th>CensusYear</th>\n",
       "      <th>Sex</th>\n",
       "      <th>Aggregate Town or Rural Area</th>\n",
       "      <th>County and City</th>\n",
       "      <th>UNIT</th>\n",
       "      <th>VALUE</th>\n",
       "    </tr>\n",
       "  </thead>\n",
       "  <tbody>\n",
       "    <tr>\n",
       "      <th>0</th>\n",
       "      <td>Population</td>\n",
       "      <td>2011</td>\n",
       "      <td>Both sexes</td>\n",
       "      <td>State</td>\n",
       "      <td>State</td>\n",
       "      <td>Number</td>\n",
       "      <td>4588252.0</td>\n",
       "    </tr>\n",
       "    <tr>\n",
       "      <th>1</th>\n",
       "      <td>Population</td>\n",
       "      <td>2011</td>\n",
       "      <td>Both sexes</td>\n",
       "      <td>State</td>\n",
       "      <td>Carlow</td>\n",
       "      <td>Number</td>\n",
       "      <td>54612.0</td>\n",
       "    </tr>\n",
       "    <tr>\n",
       "      <th>2</th>\n",
       "      <td>Population</td>\n",
       "      <td>2011</td>\n",
       "      <td>Both sexes</td>\n",
       "      <td>State</td>\n",
       "      <td>Dublin City</td>\n",
       "      <td>Number</td>\n",
       "      <td>527612.0</td>\n",
       "    </tr>\n",
       "    <tr>\n",
       "      <th>3</th>\n",
       "      <td>Population</td>\n",
       "      <td>2011</td>\n",
       "      <td>Both sexes</td>\n",
       "      <td>State</td>\n",
       "      <td>Dún Laoghaire-Rathdown</td>\n",
       "      <td>Number</td>\n",
       "      <td>206261.0</td>\n",
       "    </tr>\n",
       "    <tr>\n",
       "      <th>4</th>\n",
       "      <td>Population</td>\n",
       "      <td>2011</td>\n",
       "      <td>Both sexes</td>\n",
       "      <td>State</td>\n",
       "      <td>Fingal</td>\n",
       "      <td>Number</td>\n",
       "      <td>273991.0</td>\n",
       "    </tr>\n",
       "    <tr>\n",
       "      <th>...</th>\n",
       "      <td>...</td>\n",
       "      <td>...</td>\n",
       "      <td>...</td>\n",
       "      <td>...</td>\n",
       "      <td>...</td>\n",
       "      <td>...</td>\n",
       "      <td>...</td>\n",
       "    </tr>\n",
       "    <tr>\n",
       "      <th>1723</th>\n",
       "      <td>Percentage change since previous census</td>\n",
       "      <td>2016</td>\n",
       "      <td>Female</td>\n",
       "      <td>Aggregate Rural Area</td>\n",
       "      <td>Roscommon</td>\n",
       "      <td>%</td>\n",
       "      <td>0.4</td>\n",
       "    </tr>\n",
       "    <tr>\n",
       "      <th>1724</th>\n",
       "      <td>Percentage change since previous census</td>\n",
       "      <td>2016</td>\n",
       "      <td>Female</td>\n",
       "      <td>Aggregate Rural Area</td>\n",
       "      <td>Sligo</td>\n",
       "      <td>%</td>\n",
       "      <td>-3.4</td>\n",
       "    </tr>\n",
       "    <tr>\n",
       "      <th>1725</th>\n",
       "      <td>Percentage change since previous census</td>\n",
       "      <td>2016</td>\n",
       "      <td>Female</td>\n",
       "      <td>Aggregate Rural Area</td>\n",
       "      <td>Cavan</td>\n",
       "      <td>%</td>\n",
       "      <td>3.9</td>\n",
       "    </tr>\n",
       "    <tr>\n",
       "      <th>1726</th>\n",
       "      <td>Percentage change since previous census</td>\n",
       "      <td>2016</td>\n",
       "      <td>Female</td>\n",
       "      <td>Aggregate Rural Area</td>\n",
       "      <td>Donegal</td>\n",
       "      <td>%</td>\n",
       "      <td>0.1</td>\n",
       "    </tr>\n",
       "    <tr>\n",
       "      <th>1727</th>\n",
       "      <td>Percentage change since previous census</td>\n",
       "      <td>2016</td>\n",
       "      <td>Female</td>\n",
       "      <td>Aggregate Rural Area</td>\n",
       "      <td>Monaghan</td>\n",
       "      <td>%</td>\n",
       "      <td>2.0</td>\n",
       "    </tr>\n",
       "  </tbody>\n",
       "</table>\n",
       "<p>1728 rows × 7 columns</p>\n",
       "</div>"
      ],
      "text/plain": [
       "                                    Statistic  CensusYear         Sex  \\\n",
       "0                                  Population        2011  Both sexes   \n",
       "1                                  Population        2011  Both sexes   \n",
       "2                                  Population        2011  Both sexes   \n",
       "3                                  Population        2011  Both sexes   \n",
       "4                                  Population        2011  Both sexes   \n",
       "...                                       ...         ...         ...   \n",
       "1723  Percentage change since previous census        2016      Female   \n",
       "1724  Percentage change since previous census        2016      Female   \n",
       "1725  Percentage change since previous census        2016      Female   \n",
       "1726  Percentage change since previous census        2016      Female   \n",
       "1727  Percentage change since previous census        2016      Female   \n",
       "\n",
       "     Aggregate Town or Rural Area         County and City    UNIT      VALUE  \n",
       "0                           State                   State  Number  4588252.0  \n",
       "1                           State                  Carlow  Number    54612.0  \n",
       "2                           State             Dublin City  Number   527612.0  \n",
       "3                           State  Dún Laoghaire-Rathdown  Number   206261.0  \n",
       "4                           State                  Fingal  Number   273991.0  \n",
       "...                           ...                     ...     ...        ...  \n",
       "1723         Aggregate Rural Area               Roscommon       %        0.4  \n",
       "1724         Aggregate Rural Area                   Sligo       %       -3.4  \n",
       "1725         Aggregate Rural Area                   Cavan       %        3.9  \n",
       "1726         Aggregate Rural Area                 Donegal       %        0.1  \n",
       "1727         Aggregate Rural Area                Monaghan       %        2.0  \n",
       "\n",
       "[1728 rows x 7 columns]"
      ]
     },
     "execution_count": 70,
     "metadata": {},
     "output_type": "execute_result"
    }
   ],
   "source": [
    "# https://data.cso.ie/table/E2004\n",
    "population_data = pd.read_csv(os.path.join(TABLE_DIR, \"PopulationandActualandPercentageChange2011to2016.csv\"))\n",
    "population_data"
   ]
  },
  {
   "cell_type": "code",
   "execution_count": 71,
   "metadata": {},
   "outputs": [
    {
     "data": {
      "text/plain": [
       "1                        Carlow\n",
       "2                   Dublin City\n",
       "3        Dún Laoghaire-Rathdown\n",
       "4                        Fingal\n",
       "5                  South Dublin\n",
       "6                       Kildare\n",
       "7                      Kilkenny\n",
       "8                         Laois\n",
       "9                      Longford\n",
       "10                        Louth\n",
       "11                        Meath\n",
       "12                       Offaly\n",
       "13                    Westmeath\n",
       "14                      Wexford\n",
       "15                      Wicklow\n",
       "16                        Clare\n",
       "17                    Cork City\n",
       "18                  Cork County\n",
       "19                        Kerry\n",
       "20     Limerick City and County\n",
       "21                    Tipperary\n",
       "22    Waterford City and County\n",
       "23                  Galway City\n",
       "24                Galway County\n",
       "25                      Leitrim\n",
       "26                         Mayo\n",
       "27                    Roscommon\n",
       "28                        Sligo\n",
       "29                        Cavan\n",
       "30                      Donegal\n",
       "31                     Monaghan\n",
       "Name: County and City, dtype: object"
      ]
     },
     "execution_count": 71,
     "metadata": {},
     "output_type": "execute_result"
    }
   ],
   "source": [
    "COUNTIES = population_data[\"County and City\"].loc[population_data[\"County and City\"] != \"State\"].drop_duplicates()\n",
    "COUNTIES"
   ]
  },
  {
   "cell_type": "code",
   "execution_count": 101,
   "metadata": {},
   "outputs": [],
   "source": [
    "population_by_county_2011 = population_data.iloc[1:32].loc[(population_data[\"Statistic\"] == \"Population\") & (population_data[\"Sex\"] == \"Both sexes\") & (population_data[\"CensusYear\"] == 2011)]"
   ]
  },
  {
   "cell_type": "code",
   "execution_count": 102,
   "metadata": {},
   "outputs": [],
   "source": [
    "population_by_county_2016 = population_data.iloc[289:320].loc[(population_data[\"Statistic\"] == \"Population\") & (population_data[\"Sex\"] == \"Both sexes\") & (population_data[\"CensusYear\"] == 2016)]"
   ]
  },
  {
   "cell_type": "code",
   "execution_count": 103,
   "metadata": {},
   "outputs": [
    {
     "data": {
      "text/plain": [
       "<AxesSubplot:xlabel='County and City'>"
      ]
     },
     "execution_count": 103,
     "metadata": {},
     "output_type": "execute_result"
    },
    {
     "data": {
      "image/png": "[encoded data removed]",
      "text/plain": [
       "<Figure size 432x288 with 1 Axes>"
      ]
     },
     "metadata": {
      "needs_background": "light"
     },
     "output_type": "display_data"
    }
   ],
   "source": [
    "pd.DataFrame([population_by_county_2011[\"VALUE\"].tolist(), population_by_county_2016[\"VALUE\"].tolist()], columns=COUNTIES).transpose().rename(columns={0: 2011, 1: \"2016\"}).plot.bar()"
   ]
  }
 ],
 "metadata": {
  "kernelspec": {
   "display_name": "Python 3",
   "language": "python",
   "name": "python3"
  },
  "language_info": {
   "codemirror_mode": {
    "name": "ipython",
    "version": 3
   },
   "file_extension": ".py",
   "mimetype": "text/x-python",
   "name": "python",
   "nbconvert_exporter": "python",
   "pygments_lexer": "ipython3",
   "version": "3.8.10"
  }
 },
 "nbformat": 4,
 "nbformat_minor": 4
}

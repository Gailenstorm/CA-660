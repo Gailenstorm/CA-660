{
 "cells": [
  {
   "cell_type": "code",
   "execution_count": 3,
   "metadata": {},
   "outputs": [],
   "source": [
    "import pandas as pd\n",
    "import numpy as np\n",
    "import os\n",
    "import matplotlib.pyplot as plt\n",
    "TABLE_DIR = \"tables\""
   ]
  },
  {
   "cell_type": "code",
   "execution_count": 12,
   "metadata": {
    "scrolled": true
   },
   "outputs": [
    {
     "data": {
      "text/html": [
       "<div>\n",
       "<style scoped>\n",
       "    .dataframe tbody tr th:only-of-type {\n",
       "        vertical-align: middle;\n",
       "    }\n",
       "\n",
       "    .dataframe tbody tr th {\n",
       "        vertical-align: top;\n",
       "    }\n",
       "\n",
       "    .dataframe thead th {\n",
       "        text-align: right;\n",
       "    }\n",
       "</style>\n",
       "<table border=\"1\" class=\"dataframe\">\n",
       "  <thead>\n",
       "    <tr style=\"text-align: right;\">\n",
       "      <th></th>\n",
       "      <th>Statistic</th>\n",
       "      <th>HalfYear</th>\n",
       "      <th>Number of Bedrooms</th>\n",
       "      <th>Property Type</th>\n",
       "      <th>Location</th>\n",
       "      <th>UNIT</th>\n",
       "      <th>VALUE</th>\n",
       "    </tr>\n",
       "  </thead>\n",
       "  <tbody>\n",
       "    <tr>\n",
       "      <th>0</th>\n",
       "      <td>RTB Average Monthly Rent Report</td>\n",
       "      <td>2008H1</td>\n",
       "      <td>All bedrooms</td>\n",
       "      <td>All property types</td>\n",
       "      <td>Carlow</td>\n",
       "      <td>Euro</td>\n",
       "      <td>759.62</td>\n",
       "    </tr>\n",
       "    <tr>\n",
       "      <th>1</th>\n",
       "      <td>RTB Average Monthly Rent Report</td>\n",
       "      <td>2008H1</td>\n",
       "      <td>All bedrooms</td>\n",
       "      <td>All property types</td>\n",
       "      <td>Carlow Town</td>\n",
       "      <td>Euro</td>\n",
       "      <td>NaN</td>\n",
       "    </tr>\n",
       "    <tr>\n",
       "      <th>2</th>\n",
       "      <td>RTB Average Monthly Rent Report</td>\n",
       "      <td>2008H1</td>\n",
       "      <td>All bedrooms</td>\n",
       "      <td>All property types</td>\n",
       "      <td>Graiguecullen, Carlow</td>\n",
       "      <td>Euro</td>\n",
       "      <td>749.54</td>\n",
       "    </tr>\n",
       "    <tr>\n",
       "      <th>3</th>\n",
       "      <td>RTB Average Monthly Rent Report</td>\n",
       "      <td>2008H1</td>\n",
       "      <td>All bedrooms</td>\n",
       "      <td>All property types</td>\n",
       "      <td>Tullow, Carlow</td>\n",
       "      <td>Euro</td>\n",
       "      <td>729.30</td>\n",
       "    </tr>\n",
       "    <tr>\n",
       "      <th>4</th>\n",
       "      <td>RTB Average Monthly Rent Report</td>\n",
       "      <td>2008H1</td>\n",
       "      <td>All bedrooms</td>\n",
       "      <td>All property types</td>\n",
       "      <td>Cavan</td>\n",
       "      <td>Euro</td>\n",
       "      <td>583.96</td>\n",
       "    </tr>\n",
       "    <tr>\n",
       "      <th>...</th>\n",
       "      <td>...</td>\n",
       "      <td>...</td>\n",
       "      <td>...</td>\n",
       "      <td>...</td>\n",
       "      <td>...</td>\n",
       "      <td>...</td>\n",
       "      <td>...</td>\n",
       "    </tr>\n",
       "    <tr>\n",
       "      <th>12037</th>\n",
       "      <td>RTB Average Monthly Rent Report</td>\n",
       "      <td>2021H1</td>\n",
       "      <td>All bedrooms</td>\n",
       "      <td>All property types</td>\n",
       "      <td>Delgany, Wicklow</td>\n",
       "      <td>Euro</td>\n",
       "      <td>1565.79</td>\n",
       "    </tr>\n",
       "    <tr>\n",
       "      <th>12038</th>\n",
       "      <td>RTB Average Monthly Rent Report</td>\n",
       "      <td>2021H1</td>\n",
       "      <td>All bedrooms</td>\n",
       "      <td>All property types</td>\n",
       "      <td>Greystones, Wicklow</td>\n",
       "      <td>Euro</td>\n",
       "      <td>1761.74</td>\n",
       "    </tr>\n",
       "    <tr>\n",
       "      <th>12039</th>\n",
       "      <td>RTB Average Monthly Rent Report</td>\n",
       "      <td>2021H1</td>\n",
       "      <td>All bedrooms</td>\n",
       "      <td>All property types</td>\n",
       "      <td>Kilcoole, Wicklow</td>\n",
       "      <td>Euro</td>\n",
       "      <td>NaN</td>\n",
       "    </tr>\n",
       "    <tr>\n",
       "      <th>12040</th>\n",
       "      <td>RTB Average Monthly Rent Report</td>\n",
       "      <td>2021H1</td>\n",
       "      <td>All bedrooms</td>\n",
       "      <td>All property types</td>\n",
       "      <td>Newtownmountkennedy, Wicklow</td>\n",
       "      <td>Euro</td>\n",
       "      <td>NaN</td>\n",
       "    </tr>\n",
       "    <tr>\n",
       "      <th>12041</th>\n",
       "      <td>RTB Average Monthly Rent Report</td>\n",
       "      <td>2021H1</td>\n",
       "      <td>All bedrooms</td>\n",
       "      <td>All property types</td>\n",
       "      <td>Rathnew, Wicklow</td>\n",
       "      <td>Euro</td>\n",
       "      <td>1166.20</td>\n",
       "    </tr>\n",
       "  </tbody>\n",
       "</table>\n",
       "<p>12042 rows × 7 columns</p>\n",
       "</div>"
      ],
      "text/plain": [
       "                             Statistic HalfYear Number of Bedrooms  \\\n",
       "0      RTB Average Monthly Rent Report   2008H1       All bedrooms   \n",
       "1      RTB Average Monthly Rent Report   2008H1       All bedrooms   \n",
       "2      RTB Average Monthly Rent Report   2008H1       All bedrooms   \n",
       "3      RTB Average Monthly Rent Report   2008H1       All bedrooms   \n",
       "4      RTB Average Monthly Rent Report   2008H1       All bedrooms   \n",
       "...                                ...      ...                ...   \n",
       "12037  RTB Average Monthly Rent Report   2021H1       All bedrooms   \n",
       "12038  RTB Average Monthly Rent Report   2021H1       All bedrooms   \n",
       "12039  RTB Average Monthly Rent Report   2021H1       All bedrooms   \n",
       "12040  RTB Average Monthly Rent Report   2021H1       All bedrooms   \n",
       "12041  RTB Average Monthly Rent Report   2021H1       All bedrooms   \n",
       "\n",
       "            Property Type                      Location  UNIT    VALUE  \n",
       "0      All property types                        Carlow  Euro   759.62  \n",
       "1      All property types                   Carlow Town  Euro      NaN  \n",
       "2      All property types         Graiguecullen, Carlow  Euro   749.54  \n",
       "3      All property types                Tullow, Carlow  Euro   729.30  \n",
       "4      All property types                         Cavan  Euro   583.96  \n",
       "...                   ...                           ...   ...      ...  \n",
       "12037  All property types              Delgany, Wicklow  Euro  1565.79  \n",
       "12038  All property types           Greystones, Wicklow  Euro  1761.74  \n",
       "12039  All property types             Kilcoole, Wicklow  Euro      NaN  \n",
       "12040  All property types  Newtownmountkennedy, Wicklow  Euro      NaN  \n",
       "12041  All property types              Rathnew, Wicklow  Euro  1166.20  \n",
       "\n",
       "[12042 rows x 7 columns]"
      ]
     },
     "execution_count": 12,
     "metadata": {},
     "output_type": "execute_result"
    }
   ],
   "source": [
    "# https://data.cso.ie/table/RIH02\n",
    "rental_data = pd.read_csv(os.path.join(TABLE_DIR, \"RIH02.20211118T121153.csv\"))\n",
    "rental_data"
   ]
  },
  {
   "cell_type": "code",
   "execution_count": 50,
   "metadata": {},
   "outputs": [
    {
     "data": {
      "text/html": [
       "<div>\n",
       "<style scoped>\n",
       "    .dataframe tbody tr th:only-of-type {\n",
       "        vertical-align: middle;\n",
       "    }\n",
       "\n",
       "    .dataframe tbody tr th {\n",
       "        vertical-align: top;\n",
       "    }\n",
       "\n",
       "    .dataframe thead th {\n",
       "        text-align: right;\n",
       "    }\n",
       "</style>\n",
       "<table border=\"1\" class=\"dataframe\">\n",
       "  <thead>\n",
       "    <tr style=\"text-align: right;\">\n",
       "      <th></th>\n",
       "      <th>Statistic</th>\n",
       "      <th>HalfYear</th>\n",
       "      <th>Number of Bedrooms</th>\n",
       "      <th>Property Type</th>\n",
       "      <th>Location</th>\n",
       "      <th>UNIT</th>\n",
       "      <th>VALUE</th>\n",
       "      <th>Year</th>\n",
       "    </tr>\n",
       "  </thead>\n",
       "  <tbody>\n",
       "    <tr>\n",
       "      <th>0</th>\n",
       "      <td>RTB Average Monthly Rent Report</td>\n",
       "      <td>2008H1</td>\n",
       "      <td>All bedrooms</td>\n",
       "      <td>All property types</td>\n",
       "      <td>Carlow</td>\n",
       "      <td>Euro</td>\n",
       "      <td>759.62</td>\n",
       "      <td>2008</td>\n",
       "    </tr>\n",
       "    <tr>\n",
       "      <th>3</th>\n",
       "      <td>RTB Average Monthly Rent Report</td>\n",
       "      <td>2008H1</td>\n",
       "      <td>All bedrooms</td>\n",
       "      <td>All property types</td>\n",
       "      <td>Tullow, Carlow</td>\n",
       "      <td>Euro</td>\n",
       "      <td>729.30</td>\n",
       "      <td>2008</td>\n",
       "    </tr>\n",
       "    <tr>\n",
       "      <th>4</th>\n",
       "      <td>RTB Average Monthly Rent Report</td>\n",
       "      <td>2008H1</td>\n",
       "      <td>All bedrooms</td>\n",
       "      <td>All property types</td>\n",
       "      <td>Cavan</td>\n",
       "      <td>Euro</td>\n",
       "      <td>583.96</td>\n",
       "      <td>2008</td>\n",
       "    </tr>\n",
       "    <tr>\n",
       "      <th>5</th>\n",
       "      <td>RTB Average Monthly Rent Report</td>\n",
       "      <td>2008H1</td>\n",
       "      <td>All bedrooms</td>\n",
       "      <td>All property types</td>\n",
       "      <td>Cavan Town</td>\n",
       "      <td>Euro</td>\n",
       "      <td>570.09</td>\n",
       "      <td>2008</td>\n",
       "    </tr>\n",
       "    <tr>\n",
       "      <th>8</th>\n",
       "      <td>RTB Average Monthly Rent Report</td>\n",
       "      <td>2008H1</td>\n",
       "      <td>All bedrooms</td>\n",
       "      <td>All property types</td>\n",
       "      <td>Ballyjamesduff, Cavan</td>\n",
       "      <td>Euro</td>\n",
       "      <td>611.57</td>\n",
       "      <td>2008</td>\n",
       "    </tr>\n",
       "    <tr>\n",
       "      <th>...</th>\n",
       "      <td>...</td>\n",
       "      <td>...</td>\n",
       "      <td>...</td>\n",
       "      <td>...</td>\n",
       "      <td>...</td>\n",
       "      <td>...</td>\n",
       "      <td>...</td>\n",
       "      <td>...</td>\n",
       "    </tr>\n",
       "    <tr>\n",
       "      <th>12034</th>\n",
       "      <td>RTB Average Monthly Rent Report</td>\n",
       "      <td>2021H1</td>\n",
       "      <td>All bedrooms</td>\n",
       "      <td>All property types</td>\n",
       "      <td>Baltinglass, Wicklow</td>\n",
       "      <td>Euro</td>\n",
       "      <td>942.46</td>\n",
       "      <td>2021</td>\n",
       "    </tr>\n",
       "    <tr>\n",
       "      <th>12035</th>\n",
       "      <td>RTB Average Monthly Rent Report</td>\n",
       "      <td>2021H1</td>\n",
       "      <td>All bedrooms</td>\n",
       "      <td>All property types</td>\n",
       "      <td>Blessington, Wicklow</td>\n",
       "      <td>Euro</td>\n",
       "      <td>1424.29</td>\n",
       "      <td>2021</td>\n",
       "    </tr>\n",
       "    <tr>\n",
       "      <th>12036</th>\n",
       "      <td>RTB Average Monthly Rent Report</td>\n",
       "      <td>2021H1</td>\n",
       "      <td>All bedrooms</td>\n",
       "      <td>All property types</td>\n",
       "      <td>Bray, Wicklow</td>\n",
       "      <td>Euro</td>\n",
       "      <td>1391.88</td>\n",
       "      <td>2021</td>\n",
       "    </tr>\n",
       "    <tr>\n",
       "      <th>12037</th>\n",
       "      <td>RTB Average Monthly Rent Report</td>\n",
       "      <td>2021H1</td>\n",
       "      <td>All bedrooms</td>\n",
       "      <td>All property types</td>\n",
       "      <td>Delgany, Wicklow</td>\n",
       "      <td>Euro</td>\n",
       "      <td>1565.79</td>\n",
       "      <td>2021</td>\n",
       "    </tr>\n",
       "    <tr>\n",
       "      <th>12038</th>\n",
       "      <td>RTB Average Monthly Rent Report</td>\n",
       "      <td>2021H1</td>\n",
       "      <td>All bedrooms</td>\n",
       "      <td>All property types</td>\n",
       "      <td>Greystones, Wicklow</td>\n",
       "      <td>Euro</td>\n",
       "      <td>1761.74</td>\n",
       "      <td>2021</td>\n",
       "    </tr>\n",
       "  </tbody>\n",
       "</table>\n",
       "<p>8748 rows × 8 columns</p>\n",
       "</div>"
      ],
      "text/plain": [
       "                             Statistic HalfYear Number of Bedrooms  \\\n",
       "0      RTB Average Monthly Rent Report   2008H1       All bedrooms   \n",
       "3      RTB Average Monthly Rent Report   2008H1       All bedrooms   \n",
       "4      RTB Average Monthly Rent Report   2008H1       All bedrooms   \n",
       "5      RTB Average Monthly Rent Report   2008H1       All bedrooms   \n",
       "8      RTB Average Monthly Rent Report   2008H1       All bedrooms   \n",
       "...                                ...      ...                ...   \n",
       "12034  RTB Average Monthly Rent Report   2021H1       All bedrooms   \n",
       "12035  RTB Average Monthly Rent Report   2021H1       All bedrooms   \n",
       "12036  RTB Average Monthly Rent Report   2021H1       All bedrooms   \n",
       "12037  RTB Average Monthly Rent Report   2021H1       All bedrooms   \n",
       "12038  RTB Average Monthly Rent Report   2021H1       All bedrooms   \n",
       "\n",
       "            Property Type               Location  UNIT    VALUE  Year  \n",
       "0      All property types                 Carlow  Euro   759.62  2008  \n",
       "3      All property types         Tullow, Carlow  Euro   729.30  2008  \n",
       "4      All property types                  Cavan  Euro   583.96  2008  \n",
       "5      All property types             Cavan Town  Euro   570.09  2008  \n",
       "8      All property types  Ballyjamesduff, Cavan  Euro   611.57  2008  \n",
       "...                   ...                    ...   ...      ...   ...  \n",
       "12034  All property types   Baltinglass, Wicklow  Euro   942.46  2021  \n",
       "12035  All property types   Blessington, Wicklow  Euro  1424.29  2021  \n",
       "12036  All property types          Bray, Wicklow  Euro  1391.88  2021  \n",
       "12037  All property types       Delgany, Wicklow  Euro  1565.79  2021  \n",
       "12038  All property types    Greystones, Wicklow  Euro  1761.74  2021  \n",
       "\n",
       "[8748 rows x 8 columns]"
      ]
     },
     "execution_count": 50,
     "metadata": {},
     "output_type": "execute_result"
    }
   ],
   "source": [
    "study_data = rental_data.loc[~rental_data[\"VALUE\"].isnull()]\n",
    "# Let's remove locations with missing data.\n",
    "locations = list(study_data[\"Location\"])\n",
    "location_data_points = list(({location: locations.count(location) for location in set(locations)}).items())\n",
    "expected_data_points_per_location = max(location[1] for location in location_data_points)\n",
    "study_locations = [data_point[0] for data_point in location_data_points if data_point[1] == expected_data_points_per_location]\n",
    "study_data = study_data.loc[rental_data[\"Location\"].isin(study_locations)]\n",
    "study_data[\"Year\"] = study_data[\"HalfYear\"].str[0:4].astype(int)\n",
    "study_data"
   ]
  },
  {
   "cell_type": "code",
   "execution_count": 52,
   "metadata": {
    "scrolled": true
   },
   "outputs": [
    {
     "data": {
      "text/plain": [
       "<AxesSubplot:xlabel='Year', ylabel='VALUE'>"
      ]
     },
     "execution_count": 52,
     "metadata": {},
     "output_type": "execute_result"
    },
    {
     "data": {
      "image/png": "[encoded data removed]",
      "text/plain": [
       "<Figure size 432x288 with 1 Axes>"
      ]
     },
     "metadata": {
      "needs_background": "light"
     },
     "output_type": "display_data"
    }
   ],
   "source": [
    "plot1 = study_data.plot.scatter(x=\"Year\", y=\"VALUE\")\n",
    "plot1"
   ]
  },
  {
   "cell_type": "code",
   "execution_count": null,
   "metadata": {},
   "outputs": [],
   "source": [
    "# EVERYTHING UNDER HERE IS COPIED AND PASTED FROM BUYER DATA.  Still need to rejig the code for rental data.\n",
    "#\n",
    "#\n",
    "#\n",
    "#\n",
    "#\n",
    "#\n",
    "ftboo = filtered.loc[buyer_data[\"Type of Buyer\"] == \"Household Buyer - First-Time Buyer Owner-Occupier\"]\n",
    "pd.DataFrame(\n",
    "    {\n",
    "        \"Mean sale price\": ftboo[\"VALUE\"].tolist(), \n",
    "    },\n",
    "    index=ftboo[\"Month\"].unique()\n",
    ").plot.bar()"
   ]
  },
  {
   "cell_type": "code",
   "execution_count": 31,
   "metadata": {},
   "outputs": [
    {
     "data": {
      "text/plain": [
       "<AxesSubplot:>"
      ]
     },
     "execution_count": 31,
     "metadata": {},
     "output_type": "execute_result"
    },
    {
     "data": {
      "image/png": "[encoded data removed]",
      "text/plain": [
       "<Figure size 432x288 with 1 Axes>"
      ]
     },
     "metadata": {
      "needs_background": "light"
     },
     "output_type": "display_data"
    }
   ],
   "source": [
    "foo = filtered.loc[buyer_data[\"Type of Buyer\"] == \"Household Buyer - Former Owner-Occupier\"]\n",
    "pd.DataFrame(\n",
    "    {\n",
    "        \"Mean sale price\": foo[\"VALUE\"].tolist(), \n",
    "    },\n",
    "    index=foo[\"Month\"].unique()\n",
    ").plot.bar()"
   ]
  },
  {
   "cell_type": "code",
   "execution_count": 32,
   "metadata": {},
   "outputs": [
    {
     "data": {
      "text/plain": [
       "<AxesSubplot:>"
      ]
     },
     "execution_count": 32,
     "metadata": {},
     "output_type": "execute_result"
    },
    {
     "data": {
      "image/png": "[encoded data removed]",
      "text/plain": [
       "<Figure size 432x288 with 1 Axes>"
      ]
     },
     "metadata": {
      "needs_background": "light"
     },
     "output_type": "display_data"
    }
   ],
   "source": [
    "no = filtered.loc[buyer_data[\"Type of Buyer\"] == \"Household Buyer - Non-Occupier\"]\n",
    "pd.DataFrame(\n",
    "    {\n",
    "        \"Mean sale price\": no[\"VALUE\"].tolist(), \n",
    "    },\n",
    "    index=no[\"Month\"].unique()\n",
    ").plot.bar()"
   ]
  },
  {
   "cell_type": "code",
   "execution_count": 33,
   "metadata": {},
   "outputs": [
    {
     "data": {
      "text/plain": [
       "array([[1.        , 0.98143645],\n",
       "       [0.98143645, 1.        ]])"
      ]
     },
     "execution_count": 33,
     "metadata": {},
     "output_type": "execute_result"
    }
   ],
   "source": [
    "# Pearson product-moment correlation coefficients.\n",
    "np.corrcoef(all_buyers[\"VALUE\"].tolist(), ftboo[\"VALUE\"].tolist())"
   ]
  },
  {
   "cell_type": "code",
   "execution_count": 36,
   "metadata": {
    "scrolled": true
   },
   "outputs": [
    {
     "data": {
      "text/plain": [
       "array([[1.        , 0.96366684],\n",
       "       [0.96366684, 1.        ]])"
      ]
     },
     "execution_count": 36,
     "metadata": {},
     "output_type": "execute_result"
    }
   ],
   "source": [
    "# Pearson product-moment correlation coefficients.\n",
    "np.corrcoef(all_buyers[\"VALUE\"].tolist(), foo[\"VALUE\"].tolist())"
   ]
  },
  {
   "cell_type": "code",
   "execution_count": 35,
   "metadata": {},
   "outputs": [
    {
     "data": {
      "text/plain": [
       "array([[1.        , 0.89676878],\n",
       "       [0.89676878, 1.        ]])"
      ]
     },
     "execution_count": 35,
     "metadata": {},
     "output_type": "execute_result"
    }
   ],
   "source": [
    "# Pearson product-moment correlation coefficients.\n",
    "np.corrcoef(all_buyers[\"VALUE\"].tolist(), no[\"VALUE\"].tolist())"
   ]
  },
  {
   "cell_type": "code",
   "execution_count": null,
   "metadata": {},
   "outputs": [],
   "source": []
  }
 ],
 "metadata": {
  "kernelspec": {
   "display_name": "Python 3 (ipykernel)",
   "language": "python",
   "name": "python3"
  },
  "language_info": {
   "codemirror_mode": {
    "name": "ipython",
    "version": 3
   },
   "file_extension": ".py",
   "mimetype": "text/x-python",
   "name": "python",
   "nbconvert_exporter": "python",
   "pygments_lexer": "ipython3",
   "version": "3.9.7"
  }
 },
 "nbformat": 4,
 "nbformat_minor": 4
}
